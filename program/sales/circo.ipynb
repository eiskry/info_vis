{
 "cells": [
  {
   "cell_type": "code",
   "execution_count": 66,
   "metadata": {},
   "outputs": [],
   "source": [
    "%matplotlib inline\n",
    "import pandas as pd, networkx as nx\n",
    "from graphviz import *\n",
    "from operator import itemgetter"
   ]
  },
  {
   "cell_type": "code",
   "execution_count": 67,
   "metadata": {},
   "outputs": [
    {
     "data": {
      "text/plain": [
       "[['a', 'c', 1],\n",
       " ['a', 'd', 1],\n",
       " ['c', 'b', 1],\n",
       " ['d', 'b', 1],\n",
       " ['b', 'e', 1],\n",
       " ['d', 'f', 1],\n",
       " ['f', 'e', 1],\n",
       " ['f', 'h', 1],\n",
       " ['h', 'j', 1],\n",
       " ['j', 'i', 1],\n",
       " ['i', 'g', 1],\n",
       " ['g', 'e', 1],\n",
       " ['i', 'e', 1],\n",
       " ['h', 'e', 1],\n",
       " ['f', 'g', 1],\n",
       " ['f', 'i', 1],\n",
       " ['h', 'g', 1],\n",
       " ['h', 'i', 1],\n",
       " ['j', 'e', 1],\n",
       " ['j', 'g', 1],\n",
       " ['f', 'j', 1]]"
      ]
     },
     "execution_count": 67,
     "metadata": {},
     "output_type": "execute_result"
    }
   ],
   "source": [
    "data=pd.read_csv('item_pairs.csv').values.tolist() #データ読み込み\n",
    "# data=pd.read_csv('item_pairs.csv').values.tolist() #データ読み込み\n",
    "# _data\n",
    "data"
   ]
  },
  {
   "cell_type": "code",
   "execution_count": 68,
   "metadata": {},
   "outputs": [],
   "source": [
    "# n=12\n",
    "# data=_data[0:n]\n",
    "# # data"
   ]
  },
  {
   "cell_type": "code",
   "execution_count": 69,
   "metadata": {},
   "outputs": [
    {
     "data": {
      "text/plain": [
       "[['a', 'c', 1],\n",
       " ['a', 'd', 1],\n",
       " ['b', 'e', 1],\n",
       " ['c', 'b', 1],\n",
       " ['d', 'b', 1],\n",
       " ['d', 'f', 1],\n",
       " ['f', 'e', 1],\n",
       " ['f', 'h', 1],\n",
       " ['f', 'g', 1],\n",
       " ['f', 'i', 1],\n",
       " ['f', 'j', 1],\n",
       " ['g', 'e', 1],\n",
       " ['h', 'j', 1],\n",
       " ['h', 'e', 1],\n",
       " ['h', 'g', 1],\n",
       " ['h', 'i', 1],\n",
       " ['i', 'g', 1],\n",
       " ['i', 'e', 1],\n",
       " ['j', 'i', 1],\n",
       " ['j', 'e', 1],\n",
       " ['j', 'g', 1]]"
      ]
     },
     "execution_count": 69,
     "metadata": {},
     "output_type": "execute_result"
    }
   ],
   "source": [
    "sort1=sorted(data,key=itemgetter(0))\n",
    "# sort2=reversed(sort1) \n",
    "sort2=sorted(sort1,key=itemgetter(0))\n",
    "data=sort2\n",
    "data"
   ]
  },
  {
   "cell_type": "code",
   "execution_count": 70,
   "metadata": {},
   "outputs": [
    {
     "data": {
      "text/plain": [
       "21"
      ]
     },
     "execution_count": 70,
     "metadata": {},
     "output_type": "execute_result"
    }
   ],
   "source": [
    "n=len(data)\n",
    "n"
   ]
  },
  {
   "cell_type": "code",
   "execution_count": 71,
   "metadata": {},
   "outputs": [],
   "source": [
    "layout=('circo, dot, fdp, neato, nop, nop1, nop2, osage, patchwork, sfdp, twopi').split(', ')"
   ]
  },
  {
   "cell_type": "code",
   "execution_count": 72,
   "metadata": {},
   "outputs": [],
   "source": [
    "g=Graph(format='png',engine='%s'%layout[3])\n",
    "g.attr('node',shape='circle',coler='black')"
   ]
  },
  {
   "cell_type": "code",
   "execution_count": 73,
   "metadata": {},
   "outputs": [],
   "source": [
    "for i in range(n):\n",
    "    g.edge(\"%s\"%data[i][0],\"%s\"%data[i][1],len='3',penwidth=\"3\")\n",
    "#     g.edge(\"%s\"%data[i][0],\"%s\"%data[i][1],label=\"%s\"%data[i][2],penwidth=\"%s\"%(data[i][2]/100))"
   ]
  },
  {
   "cell_type": "code",
   "execution_count": 74,
   "metadata": {
    "scrolled": false
   },
   "outputs": [
    {
     "data": {
      "text/plain": [
       "'Graph.gv.png'"
      ]
     },
     "execution_count": 74,
     "metadata": {},
     "output_type": "execute_result"
    }
   ],
   "source": [
    "g.view()"
   ]
  },
  {
   "cell_type": "code",
   "execution_count": 35,
   "metadata": {},
   "outputs": [
    {
     "data": {
      "text/plain": [
       "'sales_graph_sfdp.png'"
      ]
     },
     "execution_count": 35,
     "metadata": {},
     "output_type": "execute_result"
    }
   ],
   "source": [
    "# g.render('sales_graph_sfdp')"
   ]
  },
  {
   "cell_type": "code",
   "execution_count": null,
   "metadata": {},
   "outputs": [],
   "source": []
  }
 ],
 "metadata": {
  "kernelspec": {
   "display_name": "Python 3",
   "language": "python",
   "name": "python3"
  },
  "language_info": {
   "codemirror_mode": {
    "name": "ipython",
    "version": 3
   },
   "file_extension": ".py",
   "mimetype": "text/x-python",
   "name": "python",
   "nbconvert_exporter": "python",
   "pygments_lexer": "ipython3",
   "version": "3.8.1"
  }
 },
 "nbformat": 4,
 "nbformat_minor": 4
}
