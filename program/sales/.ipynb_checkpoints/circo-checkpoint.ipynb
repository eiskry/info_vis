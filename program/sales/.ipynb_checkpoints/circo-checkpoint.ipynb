{
 "cells": [
  {
   "cell_type": "code",
   "execution_count": 129,
   "metadata": {},
   "outputs": [],
   "source": [
    "%matplotlib inline\n",
    "import pandas as pd, networkx as nx\n",
    "from graphviz import *\n",
    "from operator import itemgetter"
   ]
  },
  {
   "cell_type": "code",
   "execution_count": 169,
   "metadata": {},
   "outputs": [],
   "source": [
    "_data=pd.read_csv('item_pairs_sorted.csv').values.tolist() #データ読み込み\n",
    "# data=pd.read_csv('item_pairs.csv').values.tolist() #データ読み込み\n",
    "# _data"
   ]
  },
  {
   "cell_type": "code",
   "execution_count": 212,
   "metadata": {},
   "outputs": [],
   "source": [
    "n=12\n",
    "data=_data[0:n]\n",
    "# data"
   ]
  },
  {
   "cell_type": "code",
   "execution_count": 213,
   "metadata": {},
   "outputs": [
    {
     "data": {
      "text/plain": [
       "[['n04', 'n08', 575],\n",
       " ['n04', 'n11', 560],\n",
       " ['n04', 'n18', 663],\n",
       " ['n04', 'n23', 446],\n",
       " ['n08', 'n11', 1006],\n",
       " ['n08', 'n12', 718],\n",
       " ['n08', 'n18', 1341],\n",
       " ['n11', 'n12', 644],\n",
       " ['n18', 'n11', 1406],\n",
       " ['n18', 'n12', 960],\n",
       " ['n23', 'n18', 454],\n",
       " ['n37', 'n04', 558]]"
      ]
     },
     "execution_count": 213,
     "metadata": {},
     "output_type": "execute_result"
    }
   ],
   "source": [
    "sort1=sorted(data,key=itemgetter(1))\n",
    "sort2=sorted(sort1,key=itemgetter(0))\n",
    "data=sort2\n",
    "data"
   ]
  },
  {
   "cell_type": "code",
   "execution_count": 214,
   "metadata": {},
   "outputs": [],
   "source": [
    "layout=('circo, dot, fdp, neato, nop, nop1, nop2, osage, patchwork, sfdp, twopi').split(', ')"
   ]
  },
  {
   "cell_type": "code",
   "execution_count": 215,
   "metadata": {},
   "outputs": [],
   "source": [
    "g=Graph(format='png',engine='%s'%layout[0])\n",
    "g.attr('node',shape='circle',coler='black')"
   ]
  },
  {
   "cell_type": "code",
   "execution_count": 216,
   "metadata": {},
   "outputs": [],
   "source": [
    "for i in range(n):\n",
    "    g.edge(\"%s\"%data[i][0],\"%s\"%data[i][1],penwidth=\"%s\"%(data[i][2]/100))\n",
    "#     g.edge(\"%s\"%data[i][0],\"%s\"%data[i][1],label=\"%s\"%data[i][2],penwidth=\"%s\"%(data[i][2]/100))"
   ]
  },
  {
   "cell_type": "code",
   "execution_count": 217,
   "metadata": {
    "scrolled": false
   },
   "outputs": [
    {
     "data": {
      "text/plain": [
       "'Graph.gv.png'"
      ]
     },
     "execution_count": 217,
     "metadata": {},
     "output_type": "execute_result"
    }
   ],
   "source": [
    "g.view()"
   ]
  },
  {
   "cell_type": "code",
   "execution_count": 35,
   "metadata": {},
   "outputs": [
    {
     "data": {
      "text/plain": [
       "'sales_graph_sfdp.png'"
      ]
     },
     "execution_count": 35,
     "metadata": {},
     "output_type": "execute_result"
    }
   ],
   "source": [
    "# g.render('sales_graph_sfdp')"
   ]
  },
  {
   "cell_type": "code",
   "execution_count": null,
   "metadata": {},
   "outputs": [],
   "source": []
  }
 ],
 "metadata": {
  "kernelspec": {
   "display_name": "Python 3",
   "language": "python",
   "name": "python3"
  },
  "language_info": {
   "codemirror_mode": {
    "name": "ipython",
    "version": 3
   },
   "file_extension": ".py",
   "mimetype": "text/x-python",
   "name": "python",
   "nbconvert_exporter": "python",
   "pygments_lexer": "ipython3",
   "version": "3.8.1"
  }
 },
 "nbformat": 4,
 "nbformat_minor": 4
}
